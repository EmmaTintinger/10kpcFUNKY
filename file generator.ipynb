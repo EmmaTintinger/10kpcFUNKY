{
 "cells": [
  {
   "cell_type": "code",
   "execution_count": 1,
   "id": "0ac25244-91db-41ed-b955-74fe50836542",
   "metadata": {},
   "outputs": [],
   "source": [
    "import numpy as np\n",
    "import matplotlib as mpl\n",
    "import matplotlib.pyplot as plt\n",
    "from scipy.interpolate import LinearNDInterpolator\n",
    "import os\n",
    "\n",
    "from astropy.table import Table\n",
    "import astropy.units as u\n",
    "\n",
    "from snewpy import model_path\n",
    "from snewpy.neutrino import Flavor\n",
    "from snewpy.models.ccsn import Analytic3Species\n",
    "\n",
    "from asteria.simulation import Simulation\n",
    "from asteria import set_rcparams\n",
    "\n",
    "\n",
    "from snewpy.models.base import SupernovaModel\n",
    "from snewpy.neutrino import Flavor\n",
    "from snewpy.models.ccsn import Mori_2023\n",
    "import snewpy\n",
    "\n",
    "from glob import glob\n",
    "from scipy.interpolate import PchipInterpolator\n",
    "import sys\n",
    "\n",
    "\n",
    "import snewpy.models.ccsn as ccsn\n",
    "import scipy.stats as st\n",
    "from astropy.table import Table, Column, vstack\n",
    "from astropy.io import *\n",
    "\n",
    "set_rcparams()\n",
    "from cycler import cycler\n",
    "import emcee\n",
    "import corner\n",
    "from matplotlib import rcParams\n",
    "mpl.rcParams['axes.prop_cycle'] = cycler(\"color\", ['#ff355e', '#fd5b78', '#ff6037', '#ff9966', '#ff9933', '#ffcc33', '#ffff66', '#ccff00', '#66ff66', '#aaf0d1', '#50bfe6', '#16d0cb', '#6a1b9a', '#ff00cc' ])\n",
    "from math import lgamma\n",
    "from scipy.special import logsumexp"
   ]
  },
  {
   "cell_type": "code",
   "execution_count": 2,
   "id": "7047bf31",
   "metadata": {},
   "outputs": [],
   "source": [
    "dist=30 * u.kpc\n",
    "Elow=0*u.MeV\n",
    "Ehigh=100*u.MeV\n",
    "deltE=1*u.MeV\n",
    "Tlow=-0.29521*u.s\n",
    "Thigh=0.29479*u.s\n",
    "deltT=1*u.ms\n",
    "mix_scheme='AdiabaticMSW'\n",
    "hierarch='normal'\n",
    "\n",
    "mod= {\n",
    "    'name': 'Mori_2023',\n",
    "    'param': {\n",
    "        'axion_mass':200*u.MeV, 'axion_coupling':4*1e-10/u.GeV\n",
    "    }\n",
    "}\n",
    "sim= Simulation(model=mod,\n",
    "                 distance=dist, \n",
    "                 Emin=Elow, Emax=Ehigh, dE=deltE,\n",
    "                 tmin=Tlow, tmax=Thigh,  dt=deltT,\n",
    "                 mixing_scheme=mix_scheme,\n",
    "                 hierarchy=hierarch)\n",
    "sim.run()"
   ]
  },
  {
   "cell_type": "code",
   "execution_count": 3,
   "id": "6798b57b",
   "metadata": {},
   "outputs": [],
   "source": [
    "dt=10*u.ms\n",
    "t, hits = sim.detector_hits(dt)\n",
    "t, signal = sim.detector_signal(dt)\n",
    "i3b = sim.detector.i3_bg(dt, size=hits.size)\n",
    "dcb = sim.detector.dc_bg(dt, size=hits.size)\n",
    "bkg=i3b+dcb\n",
    "bkg_mean=np.mean(bkg)\n",
    "tot=bkg+hits\n",
    "tab=Table(data=[t,signal],names=['time','signal'])\n",
    "tab.write('newtimesignal,10kpc,10ms,200,4.fits')"
   ]
  },
  {
   "cell_type": "code",
   "execution_count": 1,
   "id": "68f7d7b7",
   "metadata": {},
   "outputs": [],
   "source": [
    "#to make the data file, ma is set to 100, ga is set to 10, and tot (bkg+hits) is used for the data"
   ]
  }
 ],
 "metadata": {
  "kernelspec": {
   "display_name": "Python 3 (ipykernel)",
   "language": "python",
   "name": "python3"
  },
  "language_info": {
   "codemirror_mode": {
    "name": "ipython",
    "version": 3
   },
   "file_extension": ".py",
   "mimetype": "text/x-python",
   "name": "python",
   "nbconvert_exporter": "python",
   "pygments_lexer": "ipython3",
   "version": "3.9.12"
  }
 },
 "nbformat": 4,
 "nbformat_minor": 5
}
